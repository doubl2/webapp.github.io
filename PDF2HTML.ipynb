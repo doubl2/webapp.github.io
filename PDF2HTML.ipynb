{
 "cells": [
  {
   "cell_type": "code",
   "execution_count": null,
   "metadata": {},
   "outputs": [],
   "source": [
    "from spire.pdf.common import *\n",
    "from spire.pdf import *\n",
    "import os"
   ]
  },
  {
   "cell_type": "code",
   "execution_count": null,
   "metadata": {},
   "outputs": [],
   "source": [
    "%%time\n",
    "\n",
    "current_dir = os.getcwd()\n",
    "output_path = os.path.join(current_dir, 'output')\n",
    "if not os.path.exists(output_path):\n",
    "    os.makedirs(output_path)\n",
    "pdf_path = os.path.join(current_dir, 'img', 'qrcode_test.pdf')\n",
    "\n",
    "doc = PdfDocument()\n",
    "doc.Pages.Add()\n",
    "doc.Pages.RemoveAt(0)\n",
    "\n",
    "doc.LoadFromFile(pdf_path)\n",
    "\n",
    "doc.SaveToFile(os.path.join(output_path, 'PDF2HTML.html'), FileFormat.HTML)\n",
    "\n",
    "doc.Close()"
   ]
  }
 ],
 "metadata": {
  "kernelspec": {
   "display_name": "venv",
   "language": "python",
   "name": "python3"
  },
  "language_info": {
   "codemirror_mode": {
    "name": "ipython",
    "version": 3
   },
   "file_extension": ".py",
   "mimetype": "text/x-python",
   "name": "python",
   "nbconvert_exporter": "python",
   "pygments_lexer": "ipython3",
   "version": "3.11.2"
  }
 },
 "nbformat": 4,
 "nbformat_minor": 2
}
